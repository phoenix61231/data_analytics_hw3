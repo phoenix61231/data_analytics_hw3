{
 "cells": [
  {
   "cell_type": "code",
   "execution_count": 3,
   "metadata": {},
   "outputs": [],
   "source": [
    "import pandas as pd\n",
    "from keras import models, layers, optimizers, regularizers\n",
    "import numpy as np\n",
    "import random\n",
    "from sklearn import model_selection, preprocessing\n",
    "import tensorflow as tf\n",
    "from tqdm import tqdm\n",
    "import matplotlib.pyplot as plt\n",
    "import time\n",
    "import datetime"
   ]
  },
  {
   "cell_type": "code",
   "execution_count": 4,
   "metadata": {},
   "outputs": [
    {
     "data": {
      "text/html": [
       "<div>\n",
       "<style scoped>\n",
       "    .dataframe tbody tr th:only-of-type {\n",
       "        vertical-align: middle;\n",
       "    }\n",
       "\n",
       "    .dataframe tbody tr th {\n",
       "        vertical-align: top;\n",
       "    }\n",
       "\n",
       "    .dataframe thead th {\n",
       "        text-align: right;\n",
       "    }\n",
       "</style>\n",
       "<table border=\"1\" class=\"dataframe\">\n",
       "  <thead>\n",
       "    <tr style=\"text-align: right;\">\n",
       "      <th></th>\n",
       "      <th>Date</th>\n",
       "      <th>Open Price</th>\n",
       "      <th>Close Price</th>\n",
       "      <th>High Price</th>\n",
       "      <th>Low Price</th>\n",
       "      <th>Volume</th>\n",
       "    </tr>\n",
       "  </thead>\n",
       "  <tbody>\n",
       "    <tr>\n",
       "      <th>0</th>\n",
       "      <td>02-Jan-2018</td>\n",
       "      <td>2683.73</td>\n",
       "      <td>2695.81</td>\n",
       "      <td>2695.89</td>\n",
       "      <td>2682.36</td>\n",
       "      <td>1846463232</td>\n",
       "    </tr>\n",
       "    <tr>\n",
       "      <th>1</th>\n",
       "      <td>03-Jan-2018</td>\n",
       "      <td>2697.85</td>\n",
       "      <td>2713.06</td>\n",
       "      <td>2714.37</td>\n",
       "      <td>2697.77</td>\n",
       "      <td>2090595328</td>\n",
       "    </tr>\n",
       "    <tr>\n",
       "      <th>2</th>\n",
       "      <td>04-Jan-2018</td>\n",
       "      <td>2719.31</td>\n",
       "      <td>2723.99</td>\n",
       "      <td>2729.29</td>\n",
       "      <td>2719.07</td>\n",
       "      <td>2100767744</td>\n",
       "    </tr>\n",
       "    <tr>\n",
       "      <th>3</th>\n",
       "      <td>05-Jan-2018</td>\n",
       "      <td>2731.33</td>\n",
       "      <td>2743.15</td>\n",
       "      <td>2743.45</td>\n",
       "      <td>2727.92</td>\n",
       "      <td>1918869120</td>\n",
       "    </tr>\n",
       "    <tr>\n",
       "      <th>4</th>\n",
       "      <td>08-Jan-2018</td>\n",
       "      <td>2742.67</td>\n",
       "      <td>2747.71</td>\n",
       "      <td>2748.51</td>\n",
       "      <td>2737.60</td>\n",
       "      <td>1894823936</td>\n",
       "    </tr>\n",
       "  </tbody>\n",
       "</table>\n",
       "</div>"
      ],
      "text/plain": [
       "          Date  Open Price  Close Price  High Price  Low Price      Volume\n",
       "0  02-Jan-2018     2683.73      2695.81     2695.89    2682.36  1846463232\n",
       "1  03-Jan-2018     2697.85      2713.06     2714.37    2697.77  2090595328\n",
       "2  04-Jan-2018     2719.31      2723.99     2729.29    2719.07  2100767744\n",
       "3  05-Jan-2018     2731.33      2743.15     2743.45    2727.92  1918869120\n",
       "4  08-Jan-2018     2742.67      2747.71     2748.51    2737.60  1894823936"
      ]
     },
     "execution_count": 4,
     "metadata": {},
     "output_type": "execute_result"
    }
   ],
   "source": [
    "train_data = pd.read_csv(\"02012009_29122017.csv\")\n",
    "test_data = pd.read_csv(\"02012018_31122018.csv\")\n",
    "train_data.head(5)\n",
    "test_data.head(5)"
   ]
  },
  {
   "cell_type": "code",
   "execution_count": 5,
   "metadata": {},
   "outputs": [
    {
     "data": {
      "text/html": [
       "<div>\n",
       "<style scoped>\n",
       "    .dataframe tbody tr th:only-of-type {\n",
       "        vertical-align: middle;\n",
       "    }\n",
       "\n",
       "    .dataframe tbody tr th {\n",
       "        vertical-align: top;\n",
       "    }\n",
       "\n",
       "    .dataframe thead th {\n",
       "        text-align: right;\n",
       "    }\n",
       "</style>\n",
       "<table border=\"1\" class=\"dataframe\">\n",
       "  <thead>\n",
       "    <tr style=\"text-align: right;\">\n",
       "      <th></th>\n",
       "      <th>Date</th>\n",
       "      <th>Open Price</th>\n",
       "      <th>Close Price</th>\n",
       "      <th>High Price</th>\n",
       "      <th>Low Price</th>\n",
       "      <th>Volume</th>\n",
       "      <th>movement</th>\n",
       "    </tr>\n",
       "  </thead>\n",
       "  <tbody>\n",
       "    <tr>\n",
       "      <th>0</th>\n",
       "      <td>1.230826e+09</td>\n",
       "      <td>902.99</td>\n",
       "      <td>931.80</td>\n",
       "      <td>934.73</td>\n",
       "      <td>899.35</td>\n",
       "      <td>4048270080</td>\n",
       "      <td>0.0</td>\n",
       "    </tr>\n",
       "    <tr>\n",
       "      <th>1</th>\n",
       "      <td>1.231085e+09</td>\n",
       "      <td>929.17</td>\n",
       "      <td>927.45</td>\n",
       "      <td>936.63</td>\n",
       "      <td>919.53</td>\n",
       "      <td>5413910016</td>\n",
       "      <td>1.0</td>\n",
       "    </tr>\n",
       "    <tr>\n",
       "      <th>2</th>\n",
       "      <td>1.231171e+09</td>\n",
       "      <td>931.17</td>\n",
       "      <td>934.70</td>\n",
       "      <td>943.85</td>\n",
       "      <td>927.28</td>\n",
       "      <td>5392620032</td>\n",
       "      <td>0.0</td>\n",
       "    </tr>\n",
       "    <tr>\n",
       "      <th>3</th>\n",
       "      <td>1.231258e+09</td>\n",
       "      <td>927.45</td>\n",
       "      <td>906.65</td>\n",
       "      <td>927.45</td>\n",
       "      <td>902.37</td>\n",
       "      <td>4704940032</td>\n",
       "      <td>1.0</td>\n",
       "    </tr>\n",
       "    <tr>\n",
       "      <th>4</th>\n",
       "      <td>1.231344e+09</td>\n",
       "      <td>905.73</td>\n",
       "      <td>909.73</td>\n",
       "      <td>910.00</td>\n",
       "      <td>896.81</td>\n",
       "      <td>4991549952</td>\n",
       "      <td>0.0</td>\n",
       "    </tr>\n",
       "  </tbody>\n",
       "</table>\n",
       "</div>"
      ],
      "text/plain": [
       "           Date  Open Price  Close Price  High Price  Low Price      Volume  \\\n",
       "0  1.230826e+09      902.99       931.80      934.73     899.35  4048270080   \n",
       "1  1.231085e+09      929.17       927.45      936.63     919.53  5413910016   \n",
       "2  1.231171e+09      931.17       934.70      943.85     927.28  5392620032   \n",
       "3  1.231258e+09      927.45       906.65      927.45     902.37  4704940032   \n",
       "4  1.231344e+09      905.73       909.73      910.00     896.81  4991549952   \n",
       "\n",
       "   movement  \n",
       "0       0.0  \n",
       "1       1.0  \n",
       "2       0.0  \n",
       "3       1.0  \n",
       "4       0.0  "
      ]
     },
     "execution_count": 5,
     "metadata": {},
     "output_type": "execute_result"
    }
   ],
   "source": [
    "train_mask = train_data['Open Price']>train_data['Close Price']\n",
    "test_mask = test_data['Open Price']>test_data['Close Price']\n",
    "\n",
    "train_data.insert(6,'movement',1)\n",
    "test_data.insert(6,'movement',1)\n",
    "\n",
    "train_data.loc[train_mask, 'movement']=0\n",
    "test_data.loc[test_mask, 'movement']=0\n",
    "\n",
    "train_data['movement'] = train_data['movement'].shift(-1)\n",
    "test_data['movement'] = test_data['movement'].shift(-1)\n",
    "\n",
    "train_data['Date'] = train_data['Date'].map(lambda x:time.mktime(datetime.datetime.strptime(x, \"%d-%b-%Y\").timetuple()))\n",
    "test_data['Date'] = test_data['Date'].map(lambda x:time.mktime(datetime.datetime.strptime(x, \"%d-%b-%Y\").timetuple()))\n",
    "\n",
    "train_data.head()"
   ]
  },
  {
   "cell_type": "code",
   "execution_count": 6,
   "metadata": {},
   "outputs": [
    {
     "data": {
      "text/html": [
       "<div>\n",
       "<style scoped>\n",
       "    .dataframe tbody tr th:only-of-type {\n",
       "        vertical-align: middle;\n",
       "    }\n",
       "\n",
       "    .dataframe tbody tr th {\n",
       "        vertical-align: top;\n",
       "    }\n",
       "\n",
       "    .dataframe thead th {\n",
       "        text-align: right;\n",
       "    }\n",
       "</style>\n",
       "<table border=\"1\" class=\"dataframe\">\n",
       "  <thead>\n",
       "    <tr style=\"text-align: right;\">\n",
       "      <th></th>\n",
       "      <th>Date</th>\n",
       "      <th>Open Price</th>\n",
       "      <th>Close Price</th>\n",
       "      <th>High Price</th>\n",
       "      <th>Low Price</th>\n",
       "      <th>Volume</th>\n",
       "    </tr>\n",
       "  </thead>\n",
       "  <tbody>\n",
       "    <tr>\n",
       "      <th>0</th>\n",
       "      <td>1.514822e+09</td>\n",
       "      <td>2683.73</td>\n",
       "      <td>2695.81</td>\n",
       "      <td>2695.89</td>\n",
       "      <td>2682.36</td>\n",
       "      <td>1846463232</td>\n",
       "    </tr>\n",
       "    <tr>\n",
       "      <th>1</th>\n",
       "      <td>1.514909e+09</td>\n",
       "      <td>2697.85</td>\n",
       "      <td>2713.06</td>\n",
       "      <td>2714.37</td>\n",
       "      <td>2697.77</td>\n",
       "      <td>2090595328</td>\n",
       "    </tr>\n",
       "    <tr>\n",
       "      <th>2</th>\n",
       "      <td>1.514995e+09</td>\n",
       "      <td>2719.31</td>\n",
       "      <td>2723.99</td>\n",
       "      <td>2729.29</td>\n",
       "      <td>2719.07</td>\n",
       "      <td>2100767744</td>\n",
       "    </tr>\n",
       "    <tr>\n",
       "      <th>3</th>\n",
       "      <td>1.515082e+09</td>\n",
       "      <td>2731.33</td>\n",
       "      <td>2743.15</td>\n",
       "      <td>2743.45</td>\n",
       "      <td>2727.92</td>\n",
       "      <td>1918869120</td>\n",
       "    </tr>\n",
       "    <tr>\n",
       "      <th>4</th>\n",
       "      <td>1.515341e+09</td>\n",
       "      <td>2742.67</td>\n",
       "      <td>2747.71</td>\n",
       "      <td>2748.51</td>\n",
       "      <td>2737.60</td>\n",
       "      <td>1894823936</td>\n",
       "    </tr>\n",
       "  </tbody>\n",
       "</table>\n",
       "</div>"
      ],
      "text/plain": [
       "           Date  Open Price  Close Price  High Price  Low Price      Volume\n",
       "0  1.514822e+09     2683.73      2695.81     2695.89    2682.36  1846463232\n",
       "1  1.514909e+09     2697.85      2713.06     2714.37    2697.77  2090595328\n",
       "2  1.514995e+09     2719.31      2723.99     2729.29    2719.07  2100767744\n",
       "3  1.515082e+09     2731.33      2743.15     2743.45    2727.92  1918869120\n",
       "4  1.515341e+09     2742.67      2747.71     2748.51    2737.60  1894823936"
      ]
     },
     "execution_count": 6,
     "metadata": {},
     "output_type": "execute_result"
    }
   ],
   "source": [
    "train_data = train_data.dropna()\n",
    "test_data = test_data.dropna()\n",
    "\n",
    "train_data['movement'] = train_data['movement'].astype('int_')\n",
    "test_data['movement'] = test_data['movement'].astype('int_')\n",
    "\n",
    "x_train = train_data.loc[:, train_data.columns != 'movement']\n",
    "y_train = train_data[['movement']]\n",
    "x_test = test_data.loc[:, test_data.columns != 'movement']\n",
    "y_test = test_data[['movement']]\n",
    "x_test.head(5)"
   ]
  },
  {
   "cell_type": "code",
   "execution_count": 11,
   "metadata": {},
   "outputs": [],
   "source": [
    "cnt_1 = y_train[y_train['movement']==1].count()\n",
    "cnt_0 = y_train[y_train['movement']==0].count()"
   ]
  },
  {
   "cell_type": "code",
   "execution_count": 12,
   "metadata": {},
   "outputs": [],
   "source": [
    "x_train = preprocessing.normalize(x_train)\n",
    "x_test = preprocessing.normalize(x_test)"
   ]
  },
  {
   "cell_type": "code",
   "execution_count": 13,
   "metadata": {},
   "outputs": [],
   "source": [
    "hidden_units = 10\n",
    "activation = 'relu'\n",
    "l2 = 0.001\n",
    "learning_rate = 0.1\n",
    "epochs = 20\n",
    "batch_size = 32"
   ]
  },
  {
   "cell_type": "code",
   "execution_count": 14,
   "metadata": {},
   "outputs": [
    {
     "name": "stdout",
     "output_type": "stream",
     "text": [
      "WARNING:tensorflow:From C:\\Users\\Hung-Chih\\Anaconda3\\envs\\tensorflow\\lib\\site-packages\\tensorflow\\python\\framework\\op_def_library.py:263: colocate_with (from tensorflow.python.framework.ops) is deprecated and will be removed in a future version.\n",
      "Instructions for updating:\n",
      "Colocations handled automatically by placer.\n"
     ]
    }
   ],
   "source": [
    "# create a sequential model\n",
    "model = models.Sequential()\n",
    "\n",
    "# add the hidden layer\n",
    "model.add(layers.Dense(input_dim=6,\n",
    "                       units=hidden_units, \n",
    "                       activation=activation))\n",
    "\n",
    "# add the output layer\n",
    "model.add(layers.Dense(input_dim=hidden_units,\n",
    "                       units=1,\n",
    "                       activation='sigmoid'))\n",
    "\n",
    "# define our loss function and optimizer\n",
    "model.compile(loss='binary_crossentropy',\n",
    "              # Adam is a kind of gradient descent\n",
    "              optimizer=optimizers.Adam(lr=learning_rate),\n",
    "              metrics=['accuracy'])"
   ]
  },
  {
   "cell_type": "code",
   "execution_count": 15,
   "metadata": {},
   "outputs": [],
   "source": [
    "class_weight = {\n",
    "    0: 1.,\n",
    "    1: cnt_0 / cnt_1\n",
    "}"
   ]
  },
  {
   "cell_type": "code",
   "execution_count": 17,
   "metadata": {},
   "outputs": [
    {
     "name": "stdout",
     "output_type": "stream",
     "text": [
      "Epoch 1/20\n",
      "2263/2263 [==============================] - ETA: 0s - loss: 0.6451 - acc: 0.375 - ETA: 0s - loss: 0.6318 - acc: 0.472 - ETA: 0s - loss: 0.6328 - acc: 0.477 - 0s 68us/step - loss: 0.6325 - acc: 0.4781\n",
      "Epoch 2/20\n",
      "2263/2263 [==============================] - ETA: 0s - loss: 0.6282 - acc: 0.562 - ETA: 0s - loss: 0.6295 - acc: 0.546 - ETA: 0s - loss: 0.6305 - acc: 0.504 - ETA: 0s - loss: 0.6306 - acc: 0.517 - 0s 75us/step - loss: 0.6306 - acc: 0.5148\n",
      "Epoch 3/20\n",
      "2263/2263 [==============================] - ETA: 0s - loss: 0.6337 - acc: 0.343 - ETA: 0s - loss: 0.6308 - acc: 0.497 - ETA: 0s - loss: 0.6304 - acc: 0.467 - 0s 65us/step - loss: 0.6321 - acc: 0.4627\n",
      "Epoch 4/20\n",
      "2263/2263 [==============================] - ETA: 0s - loss: 0.6349 - acc: 0.406 - ETA: 0s - loss: 0.6328 - acc: 0.480 - ETA: 0s - loss: 0.6313 - acc: 0.491 - 0s 68us/step - loss: 0.6307 - acc: 0.5108\n",
      "Epoch 5/20\n",
      "2263/2263 [==============================] - ETA: 1s - loss: 0.6448 - acc: 0.625 - ETA: 0s - loss: 0.6311 - acc: 0.488 - ETA: 0s - loss: 0.6349 - acc: 0.489 - 0s 65us/step - loss: 0.6342 - acc: 0.5011\n",
      "Epoch 6/20\n",
      "2263/2263 [==============================] - ETA: 0s - loss: 0.6127 - acc: 0.625 - ETA: 0s - loss: 0.6247 - acc: 0.582 - ETA: 0s - loss: 0.6299 - acc: 0.526 - 0s 68us/step - loss: 0.6317 - acc: 0.5183\n",
      "Epoch 7/20\n",
      "2263/2263 [==============================] - ETA: 1s - loss: 0.6337 - acc: 0.437 - ETA: 0s - loss: 0.6324 - acc: 0.484 - ETA: 0s - loss: 0.6307 - acc: 0.507 - 0s 75us/step - loss: 0.6303 - acc: 0.4985\n",
      "Epoch 8/20\n",
      "2263/2263 [==============================] - ETA: 0s - loss: 0.6268 - acc: 0.562 - ETA: 0s - loss: 0.6264 - acc: 0.577 - ETA: 0s - loss: 0.6309 - acc: 0.512 - 0s 65us/step - loss: 0.6317 - acc: 0.5126\n",
      "Epoch 9/20\n",
      "2263/2263 [==============================] - ETA: 0s - loss: 0.6358 - acc: 0.500 - ETA: 0s - loss: 0.6308 - acc: 0.483 - ETA: 0s - loss: 0.6314 - acc: 0.498 - 0s 68us/step - loss: 0.6298 - acc: 0.5197\n",
      "Epoch 10/20\n",
      "2263/2263 [==============================] - ETA: 0s - loss: 0.6107 - acc: 0.281 - ETA: 0s - loss: 0.6269 - acc: 0.465 - ETA: 0s - loss: 0.6275 - acc: 0.506 - ETA: 0s - loss: 0.6289 - acc: 0.521 - 0s 89us/step - loss: 0.6291 - acc: 0.5245\n",
      "Epoch 11/20\n",
      "2263/2263 [==============================] - ETA: 0s - loss: 0.6470 - acc: 0.468 - ETA: 0s - loss: 0.6392 - acc: 0.483 - ETA: 0s - loss: 0.6342 - acc: 0.524 - ETA: 0s - loss: 0.6341 - acc: 0.508 - 0s 96us/step - loss: 0.6330 - acc: 0.5002\n",
      "Epoch 12/20\n",
      "2263/2263 [==============================] - ETA: 1s - loss: 0.6320 - acc: 0.531 - ETA: 0s - loss: 0.6308 - acc: 0.550 - ETA: 0s - loss: 0.6306 - acc: 0.517 - ETA: 0s - loss: 0.6307 - acc: 0.507 - ETA: 0s - loss: 0.6306 - acc: 0.497 - ETA: 0s - loss: 0.6297 - acc: 0.513 - 0s 126us/step - loss: 0.6301 - acc: 0.5117\n",
      "Epoch 13/20\n",
      "2263/2263 [==============================] - ETA: 0s - loss: 0.6498 - acc: 0.437 - ETA: 0s - loss: 0.6336 - acc: 0.447 - ETA: 0s - loss: 0.6334 - acc: 0.454 - ETA: 0s - loss: 0.6321 - acc: 0.464 - ETA: 0s - loss: 0.6317 - acc: 0.479 - 0s 116us/step - loss: 0.6316 - acc: 0.4750\n",
      "Epoch 14/20\n",
      "2263/2263 [==============================] - ETA: 0s - loss: 0.6282 - acc: 0.437 - ETA: 0s - loss: 0.6328 - acc: 0.503 - ETA: 0s - loss: 0.6329 - acc: 0.480 - ETA: 0s - loss: 0.6326 - acc: 0.501 - ETA: 0s - loss: 0.6319 - acc: 0.500 - 0s 111us/step - loss: 0.6317 - acc: 0.4945\n",
      "Epoch 15/20\n",
      "2263/2263 [==============================] - ETA: 0s - loss: 0.6398 - acc: 0.468 - ETA: 0s - loss: 0.6330 - acc: 0.527 - ETA: 0s - loss: 0.6299 - acc: 0.511 - ETA: 0s - loss: 0.6295 - acc: 0.520 - 0s 82us/step - loss: 0.6300 - acc: 0.5183\n",
      "Epoch 16/20\n",
      "2263/2263 [==============================] - ETA: 0s - loss: 0.6338 - acc: 0.468 - ETA: 0s - loss: 0.6320 - acc: 0.476 - ETA: 0s - loss: 0.6309 - acc: 0.496 - ETA: 0s - loss: 0.6299 - acc: 0.488 - 0s 82us/step - loss: 0.6310 - acc: 0.4914\n",
      "Epoch 17/20\n",
      "2263/2263 [==============================] - ETA: 0s - loss: 0.6402 - acc: 0.500 - ETA: 0s - loss: 0.6321 - acc: 0.463 - ETA: 0s - loss: 0.6316 - acc: 0.466 - ETA: 0s - loss: 0.6331 - acc: 0.476 - 0s 96us/step - loss: 0.6328 - acc: 0.4905\n",
      "Epoch 18/20\n",
      "2263/2263 [==============================] - ETA: 0s - loss: 0.6679 - acc: 0.468 - ETA: 0s - loss: 0.6353 - acc: 0.446 - ETA: 0s - loss: 0.6341 - acc: 0.479 - ETA: 0s - loss: 0.6336 - acc: 0.479 - 0s 82us/step - loss: 0.6336 - acc: 0.4786\n",
      "Epoch 19/20\n",
      "2263/2263 [==============================] - ETA: 1s - loss: 0.6243 - acc: 0.656 - ETA: 0s - loss: 0.6287 - acc: 0.486 - ETA: 0s - loss: 0.6292 - acc: 0.526 - ETA: 0s - loss: 0.6311 - acc: 0.507 - 0s 102us/step - loss: 0.6307 - acc: 0.5064\n",
      "Epoch 20/20\n",
      "2263/2263 [==============================] - ETA: 0s - loss: 0.6267 - acc: 0.562 - ETA: 0s - loss: 0.6299 - acc: 0.466 - ETA: 0s - loss: 0.6317 - acc: 0.483 - ETA: 0s - loss: 0.6312 - acc: 0.495 - 0s 89us/step - loss: 0.6312 - acc: 0.4954\n",
      "2263/2263 [==============================] - ETA:  - 0s 24us/step\n",
      "251/251 [==============================] - ETA:  - 0s 62us/step\n",
      "Training accuracy: 0.45382235955465067\n",
      "Testing accuracy: 0.4980079662277404\n"
     ]
    },
    {
     "data": {
      "image/png": "[encoded data removed]",
      "text/plain": [
       "<Figure size 432x288 with 1 Axes>"
      ]
     },
     "metadata": {
      "needs_background": "light"
     },
     "output_type": "display_data"
    }
   ],
   "source": [
    "# train the parameters\n",
    "history = model.fit(x_train, y_train, epochs=20, batch_size=batch_size, class_weight=class_weight)\n",
    "\n",
    "# evaluate accuracy\n",
    "train_acc = model.evaluate(x_train, y_train, batch_size=32)[1]\n",
    "test_acc = model.evaluate(x_test, y_test, batch_size=32)[1]\n",
    "print('Training accuracy: %s' % train_acc)\n",
    "print('Testing accuracy: %s' % test_acc)\n",
    "\n",
    "losses = history.history['loss']\n",
    "plt.plot(range(len(losses)), losses, 'r')\n",
    "plt.show()"
   ]
  },
  {
   "cell_type": "code",
   "execution_count": 18,
   "metadata": {},
   "outputs": [],
   "source": [
    "def train_and_evaluate(model, x_train, y_train, x_test, y_test, n=20):\n",
    "    train_accs = []\n",
    "    test_accs = []\n",
    "    with tqdm(total=n) as progress_bar:\n",
    "        for _ in range(n):\n",
    "            model.fit(\n",
    "                x_train, \n",
    "                y_train, \n",
    "                epochs=epochs, \n",
    "                batch_size=batch_size, \n",
    "                class_weight=class_weight, \n",
    "                verbose=False)\n",
    "            train_accs.append(model.evaluate(x_train, y_train, batch_size=32, verbose=False)[1])\n",
    "            test_accs.append(model.evaluate(x_test, y_test, batch_size=32, verbose=False)[1])\n",
    "            progress_bar.update()\n",
    "    print('Avgerage Training Accuracy: %s' % np.average(train_accs))\n",
    "    print('Avgerage Testing Accuracy: %s' % np.average(test_accs))\n",
    "    return train_accs, test_accs"
   ]
  },
  {
   "cell_type": "code",
   "execution_count": 19,
   "metadata": {},
   "outputs": [
    {
     "name": "stderr",
     "output_type": "stream",
     "text": [
      "100%|██████████████████████████████████████████████████████████████████████████████████| 20/20 [00:31<00:00,  1.59s/it]\n"
     ]
    },
    {
     "name": "stdout",
     "output_type": "stream",
     "text": [
      "Avgerage Training Accuracy: 0.49538223581916174\n",
      "Avgerage Testing Accuracy: 0.4998007951801517\n"
     ]
    }
   ],
   "source": [
    "_, test_accs = train_and_evaluate(model, x_train, y_train, x_test, y_test)"
   ]
  },
  {
   "cell_type": "code",
   "execution_count": 20,
   "metadata": {},
   "outputs": [
    {
     "data": {
      "image/png": "[encoded data removed]",
      "text/plain": [
       "<Figure size 432x288 with 1 Axes>"
      ]
     },
     "metadata": {
      "needs_background": "light"
     },
     "output_type": "display_data"
    }
   ],
   "source": [
    "plt.violinplot(test_accs)\n",
    "plt.show()"
   ]
  },
  {
   "cell_type": "code",
   "execution_count": 21,
   "metadata": {},
   "outputs": [
    {
     "name": "stdout",
     "output_type": "stream",
     "text": [
      "Min: 0.4980079662277404\n",
      "Max: 0.501992030566432\n"
     ]
    }
   ],
   "source": [
    "print('Min: %s' % np.min(test_accs))\n",
    "print('Max: %s' % np.max(test_accs))"
   ]
  },
  {
   "cell_type": "code",
   "execution_count": 22,
   "metadata": {},
   "outputs": [],
   "source": [
    "hidden_units = 6\n",
    "activation = 'relu'\n",
    "l2 = 0.\n",
    "learning_rate = 0.1\n",
    "epochs = 50\n",
    "batch_size = 32"
   ]
  },
  {
   "cell_type": "code",
   "execution_count": 23,
   "metadata": {},
   "outputs": [],
   "source": [
    "def build_model(hidden_units, activation, learning_rate):\n",
    "    model = models.Sequential()\n",
    "    model.add(layers.Dense(input_dim=6,\n",
    "                           units=hidden_units, \n",
    "                           activation=activation,\n",
    "                           kernel_regularizer=regularizers.l2(l2)))\n",
    "    model.add(layers.Dense(input_dim=hidden_units,\n",
    "                           units=1,\n",
    "                           activation='sigmoid',\n",
    "                           kernel_regularizer=regularizers.l2(l2)))\n",
    "    model.compile(loss='binary_crossentropy',\n",
    "                  # Adam is a kind of gradient descent\n",
    "                  optimizer=optimizers.Adam(lr=learning_rate),\n",
    "                  metrics=['accuracy'])\n",
    "    return model\n",
    "\n",
    "model = build_model(hidden_units, activation, learning_rate)"
   ]
  },
  {
   "cell_type": "code",
   "execution_count": 24,
   "metadata": {},
   "outputs": [
    {
     "data": {
      "image/png": "[encoded data removed]",
      "text/plain": [
       "<Figure size 432x288 with 1 Axes>"
      ]
     },
     "metadata": {
      "needs_background": "light"
     },
     "output_type": "display_data"
    }
   ],
   "source": [
    "history = model.fit(x_train, y_train, epochs=epochs, batch_size=batch_size, class_weight=class_weight, verbose=False)\n",
    "losses = history.history['loss']\n",
    "plt.plot(range(len(losses)), losses, 'r')\n",
    "plt.show()"
   ]
  },
  {
   "cell_type": "code",
   "execution_count": 25,
   "metadata": {},
   "outputs": [
    {
     "name": "stderr",
     "output_type": "stream",
     "text": [
      "100%|██████████████████████████████████████████████████████████████████████████████████| 20/20 [01:22<00:00,  4.21s/it]\n"
     ]
    },
    {
     "name": "stdout",
     "output_type": "stream",
     "text": [
      "Avgerage Training Accuracy: 0.5046177638779421\n",
      "Avgerage Testing Accuracy: 0.5001992016140209\n"
     ]
    }
   ],
   "source": [
    "_, __ = train_and_evaluate(model, x_train, y_train, x_test, y_test)"
   ]
  },
  {
   "cell_type": "code",
   "execution_count": null,
   "metadata": {},
   "outputs": [],
   "source": []
  }
 ],
 "metadata": {
  "kernelspec": {
   "display_name": "Python 3",
   "language": "python",
   "name": "python3"
  },
  "language_info": {
   "codemirror_mode": {
    "name": "ipython",
    "version": 3
   },
   "file_extension": ".py",
   "mimetype": "text/x-python",
   "name": "python",
   "nbconvert_exporter": "python",
   "pygments_lexer": "ipython3",
   "version": "3.5.6"
  }
 },
 "nbformat": 4,
 "nbformat_minor": 2
}
